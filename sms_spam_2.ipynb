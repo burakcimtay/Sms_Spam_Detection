{
 "cells": [
  {
   "cell_type": "code",
   "execution_count": 3,
   "metadata": {},
   "outputs": [],
   "source": [
    "import numpy as np\n",
    "import pandas as pd\n",
    "import matplotlib.pyplot as plt\n",
    "\n",
    "from sklearn.model_selection import train_test_split, GridSearchCV\n",
    "from sklearn.metrics import accuracy_score, classification_report, confusion_matrix\n",
    "from sklearn.pipeline import Pipeline\n",
    "from sklearn.feature_extraction.text import TfidfVectorizer\n",
    "from sklearn.metrics import plot_confusion_matrix\n",
    "from sklearn.naive_bayes import MultinomialNB\n",
    "from sklearn.neighbors import KNeighborsClassifier\n",
    "from sklearn.tree import DecisionTreeClassifier\n",
    "from sklearn.linear_model import LogisticRegression\n",
    "from sklearn.ensemble import RandomForestClassifier\n",
    "from sklearn.svm import SVC\n",
    "\n",
    "from xgboost import XGBClassifier\n",
    "\n",
    "import warnings\n",
    "warnings.filterwarnings(\"ignore\")"
   ]
  },
  {
   "cell_type": "code",
   "execution_count": 4,
   "metadata": {},
   "outputs": [
    {
     "data": {
      "text/html": [
       "<div>\n",
       "<style scoped>\n",
       "    .dataframe tbody tr th:only-of-type {\n",
       "        vertical-align: middle;\n",
       "    }\n",
       "\n",
       "    .dataframe tbody tr th {\n",
       "        vertical-align: top;\n",
       "    }\n",
       "\n",
       "    .dataframe thead th {\n",
       "        text-align: right;\n",
       "    }\n",
       "</style>\n",
       "<table border=\"1\" class=\"dataframe\">\n",
       "  <thead>\n",
       "    <tr style=\"text-align: right;\">\n",
       "      <th></th>\n",
       "      <th>v1</th>\n",
       "      <th>v2</th>\n",
       "    </tr>\n",
       "  </thead>\n",
       "  <tbody>\n",
       "    <tr>\n",
       "      <th>0</th>\n",
       "      <td>spam</td>\n",
       "      <td>U were outbid by simonwatson5120 on the Shinco...</td>\n",
       "    </tr>\n",
       "    <tr>\n",
       "      <th>1</th>\n",
       "      <td>ham</td>\n",
       "      <td>Do you still have the grinder?</td>\n",
       "    </tr>\n",
       "    <tr>\n",
       "      <th>2</th>\n",
       "      <td>ham</td>\n",
       "      <td>No. Yes please. Been swimming?</td>\n",
       "    </tr>\n",
       "    <tr>\n",
       "      <th>3</th>\n",
       "      <td>ham</td>\n",
       "      <td>No de.am seeing in online shop so that i asked.</td>\n",
       "    </tr>\n",
       "    <tr>\n",
       "      <th>4</th>\n",
       "      <td>ham</td>\n",
       "      <td>Faith makes things possible,Hope makes things ...</td>\n",
       "    </tr>\n",
       "  </tbody>\n",
       "</table>\n",
       "</div>"
      ],
      "text/plain": [
       "     v1                                                 v2\n",
       "0  spam  U were outbid by simonwatson5120 on the Shinco...\n",
       "1   ham                     Do you still have the grinder?\n",
       "2   ham                     No. Yes please. Been swimming?\n",
       "3   ham    No de.am seeing in online shop so that i asked.\n",
       "4   ham  Faith makes things possible,Hope makes things ..."
      ]
     },
     "execution_count": 4,
     "metadata": {},
     "output_type": "execute_result"
    }
   ],
   "source": [
    "df=pd.read_csv(\"TrainDataset.csv\")\n",
    "df.head()"
   ]
  },
  {
   "cell_type": "code",
   "execution_count": 5,
   "metadata": {},
   "outputs": [
    {
     "name": "stdout",
     "output_type": "stream",
     "text": [
      "v1    0\n",
      "v2    0\n",
      "dtype: int64\n"
     ]
    },
    {
     "data": {
      "text/plain": [
       "4457"
      ]
     },
     "execution_count": 5,
     "metadata": {},
     "output_type": "execute_result"
    }
   ],
   "source": [
    "print(df.isnull().sum())\n",
    "len(df)"
   ]
  },
  {
   "cell_type": "code",
   "execution_count": 6,
   "metadata": {},
   "outputs": [
    {
     "data": {
      "text/plain": [
       "ham     3868\n",
       "spam     589\n",
       "Name: v1, dtype: int64"
      ]
     },
     "execution_count": 6,
     "metadata": {},
     "output_type": "execute_result"
    }
   ],
   "source": [
    "df['v1'].value_counts()"
   ]
  },
  {
   "cell_type": "code",
   "execution_count": 7,
   "metadata": {},
   "outputs": [
    {
     "data": {
      "text/html": [
       "<div>\n",
       "<style scoped>\n",
       "    .dataframe tbody tr th:only-of-type {\n",
       "        vertical-align: middle;\n",
       "    }\n",
       "\n",
       "    .dataframe tbody tr th {\n",
       "        vertical-align: top;\n",
       "    }\n",
       "\n",
       "    .dataframe thead th {\n",
       "        text-align: right;\n",
       "    }\n",
       "</style>\n",
       "<table border=\"1\" class=\"dataframe\">\n",
       "  <thead>\n",
       "    <tr style=\"text-align: right;\">\n",
       "      <th></th>\n",
       "      <th>v1</th>\n",
       "      <th>v2</th>\n",
       "    </tr>\n",
       "  </thead>\n",
       "  <tbody>\n",
       "    <tr>\n",
       "      <th>1</th>\n",
       "      <td>ham</td>\n",
       "      <td>Do you still have the grinder?</td>\n",
       "    </tr>\n",
       "    <tr>\n",
       "      <th>2</th>\n",
       "      <td>ham</td>\n",
       "      <td>No. Yes please. Been swimming?</td>\n",
       "    </tr>\n",
       "    <tr>\n",
       "      <th>3</th>\n",
       "      <td>ham</td>\n",
       "      <td>No de.am seeing in online shop so that i asked.</td>\n",
       "    </tr>\n",
       "    <tr>\n",
       "      <th>4</th>\n",
       "      <td>ham</td>\n",
       "      <td>Faith makes things possible,Hope makes things ...</td>\n",
       "    </tr>\n",
       "    <tr>\n",
       "      <th>5</th>\n",
       "      <td>ham</td>\n",
       "      <td>Hey u still at the gym?</td>\n",
       "    </tr>\n",
       "    <tr>\n",
       "      <th>...</th>\n",
       "      <td>...</td>\n",
       "      <td>...</td>\n",
       "    </tr>\n",
       "    <tr>\n",
       "      <th>4452</th>\n",
       "      <td>ham</td>\n",
       "      <td>Good. Good job. I like entrepreneurs</td>\n",
       "    </tr>\n",
       "    <tr>\n",
       "      <th>4453</th>\n",
       "      <td>ham</td>\n",
       "      <td>Living is very simple.. Loving is also simple....</td>\n",
       "    </tr>\n",
       "    <tr>\n",
       "      <th>4454</th>\n",
       "      <td>ham</td>\n",
       "      <td>Msgs r not time pass.They silently say that I ...</td>\n",
       "    </tr>\n",
       "    <tr>\n",
       "      <th>4455</th>\n",
       "      <td>ham</td>\n",
       "      <td>What is this 'hex' place you talk of? Explain!</td>\n",
       "    </tr>\n",
       "    <tr>\n",
       "      <th>4456</th>\n",
       "      <td>ham</td>\n",
       "      <td>Sorry, I'll call later</td>\n",
       "    </tr>\n",
       "  </tbody>\n",
       "</table>\n",
       "<p>3868 rows × 2 columns</p>\n",
       "</div>"
      ],
      "text/plain": [
       "       v1                                                 v2\n",
       "1     ham                     Do you still have the grinder?\n",
       "2     ham                     No. Yes please. Been swimming?\n",
       "3     ham    No de.am seeing in online shop so that i asked.\n",
       "4     ham  Faith makes things possible,Hope makes things ...\n",
       "5     ham                            Hey u still at the gym?\n",
       "...   ...                                                ...\n",
       "4452  ham               Good. Good job. I like entrepreneurs\n",
       "4453  ham  Living is very simple.. Loving is also simple....\n",
       "4454  ham  Msgs r not time pass.They silently say that I ...\n",
       "4455  ham     What is this 'hex' place you talk of? Explain!\n",
       "4456  ham                             Sorry, I'll call later\n",
       "\n",
       "[3868 rows x 2 columns]"
      ]
     },
     "execution_count": 7,
     "metadata": {},
     "output_type": "execute_result"
    }
   ],
   "source": [
    "ham = df[df[\"v1\"]==\"ham\"]\n",
    "ham"
   ]
  },
  {
   "cell_type": "code",
   "execution_count": 8,
   "metadata": {},
   "outputs": [
    {
     "data": {
      "text/html": [
       "<div>\n",
       "<style scoped>\n",
       "    .dataframe tbody tr th:only-of-type {\n",
       "        vertical-align: middle;\n",
       "    }\n",
       "\n",
       "    .dataframe tbody tr th {\n",
       "        vertical-align: top;\n",
       "    }\n",
       "\n",
       "    .dataframe thead th {\n",
       "        text-align: right;\n",
       "    }\n",
       "</style>\n",
       "<table border=\"1\" class=\"dataframe\">\n",
       "  <thead>\n",
       "    <tr style=\"text-align: right;\">\n",
       "      <th></th>\n",
       "      <th>v1</th>\n",
       "      <th>v2</th>\n",
       "    </tr>\n",
       "  </thead>\n",
       "  <tbody>\n",
       "    <tr>\n",
       "      <th>0</th>\n",
       "      <td>spam</td>\n",
       "      <td>U were outbid by simonwatson5120 on the Shinco...</td>\n",
       "    </tr>\n",
       "    <tr>\n",
       "      <th>9</th>\n",
       "      <td>spam</td>\n",
       "      <td>December only! Had your mobile 11mths+? You ar...</td>\n",
       "    </tr>\n",
       "    <tr>\n",
       "      <th>15</th>\n",
       "      <td>spam</td>\n",
       "      <td>UpgrdCentre Orange customer, you may now claim...</td>\n",
       "    </tr>\n",
       "    <tr>\n",
       "      <th>19</th>\n",
       "      <td>spam</td>\n",
       "      <td>YOUR CHANCE TO BE ON A REALITY FANTASY SHOW ca...</td>\n",
       "    </tr>\n",
       "    <tr>\n",
       "      <th>29</th>\n",
       "      <td>spam</td>\n",
       "      <td>Double mins and txts 4 6months FREE Bluetooth ...</td>\n",
       "    </tr>\n",
       "    <tr>\n",
       "      <th>...</th>\n",
       "      <td>...</td>\n",
       "      <td>...</td>\n",
       "    </tr>\n",
       "    <tr>\n",
       "      <th>4412</th>\n",
       "      <td>spam</td>\n",
       "      <td>You have won ?1,000 cash or a ?2,000 prize! To...</td>\n",
       "    </tr>\n",
       "    <tr>\n",
       "      <th>4417</th>\n",
       "      <td>spam</td>\n",
       "      <td>IMPORTANT MESSAGE. This is a final contact att...</td>\n",
       "    </tr>\n",
       "    <tr>\n",
       "      <th>4429</th>\n",
       "      <td>spam</td>\n",
       "      <td>FreeMsg Hi baby wow just got a new cam moby. W...</td>\n",
       "    </tr>\n",
       "    <tr>\n",
       "      <th>4443</th>\n",
       "      <td>spam</td>\n",
       "      <td>You've won tkts to the EURO2004 CUP FINAL or å...</td>\n",
       "    </tr>\n",
       "    <tr>\n",
       "      <th>4451</th>\n",
       "      <td>spam</td>\n",
       "      <td>Text PASS to 69669 to collect your polyphonic ...</td>\n",
       "    </tr>\n",
       "  </tbody>\n",
       "</table>\n",
       "<p>589 rows × 2 columns</p>\n",
       "</div>"
      ],
      "text/plain": [
       "        v1                                                 v2\n",
       "0     spam  U were outbid by simonwatson5120 on the Shinco...\n",
       "9     spam  December only! Had your mobile 11mths+? You ar...\n",
       "15    spam  UpgrdCentre Orange customer, you may now claim...\n",
       "19    spam  YOUR CHANCE TO BE ON A REALITY FANTASY SHOW ca...\n",
       "29    spam  Double mins and txts 4 6months FREE Bluetooth ...\n",
       "...    ...                                                ...\n",
       "4412  spam  You have won ?1,000 cash or a ?2,000 prize! To...\n",
       "4417  spam  IMPORTANT MESSAGE. This is a final contact att...\n",
       "4429  spam  FreeMsg Hi baby wow just got a new cam moby. W...\n",
       "4443  spam  You've won tkts to the EURO2004 CUP FINAL or å...\n",
       "4451  spam  Text PASS to 69669 to collect your polyphonic ...\n",
       "\n",
       "[589 rows x 2 columns]"
      ]
     },
     "execution_count": 8,
     "metadata": {},
     "output_type": "execute_result"
    }
   ],
   "source": [
    "spam = df[df[\"v1\"]==\"spam\"]\n",
    "spam"
   ]
  },
  {
   "cell_type": "code",
   "execution_count": 9,
   "metadata": {},
   "outputs": [
    {
     "data": {
      "text/plain": [
       "((3868, 2), (589, 2))"
      ]
     },
     "execution_count": 9,
     "metadata": {},
     "output_type": "execute_result"
    }
   ],
   "source": [
    "ham.shape, spam.shape"
   ]
  },
  {
   "cell_type": "code",
   "execution_count": 10,
   "metadata": {},
   "outputs": [
    {
     "data": {
      "text/plain": [
       "((589, 2), (589, 2))"
      ]
     },
     "execution_count": 10,
     "metadata": {},
     "output_type": "execute_result"
    }
   ],
   "source": [
    "ham = ham.sample(spam.shape[0])\n",
    "ham.shape, spam.shape"
   ]
  },
  {
   "cell_type": "code",
   "execution_count": 11,
   "metadata": {},
   "outputs": [
    {
     "name": "stdout",
     "output_type": "stream",
     "text": [
      "    v1                                                 v2\n",
      "0  ham  Honeybee Said: *I'm d Sweetest in d World* God...\n",
      "1  ham  watever reLation u built up in dis world only ...\n",
      "2  ham  I called and said all to him:)then he have to ...\n",
      "3  ham  Its hard to believe things like this. All can ...\n",
      "4  ham  TODAY is Sorry day.! If ever i was angry with ...\n",
      "        v1                                                 v2\n",
      "1173  spam  You have won ?1,000 cash or a ?2,000 prize! To...\n",
      "1174  spam  IMPORTANT MESSAGE. This is a final contact att...\n",
      "1175  spam  FreeMsg Hi baby wow just got a new cam moby. W...\n",
      "1176  spam  You've won tkts to the EURO2004 CUP FINAL or å...\n",
      "1177  spam  Text PASS to 69669 to collect your polyphonic ...\n"
     ]
    }
   ],
   "source": [
    "data = ham.append(spam, ignore_index=True)\n",
    "print(data.head())\n",
    "print(data.tail())"
   ]
  },
  {
   "cell_type": "code",
   "execution_count": 12,
   "metadata": {},
   "outputs": [],
   "source": [
    "X=data[\"v2\"]\n",
    "y=data[\"v1\"]\n",
    "\n",
    "def classify(model, X, y):\n",
    "    \n",
    "    global clf, X_train, X_test, y_train, y_test\n",
    "    \n",
    "    X_train, X_test, y_train, y_test = train_test_split(X, y, test_size=0.3, random_state=0, shuffle=True, stratify=y)\n",
    "    clf=Pipeline([(\"tfidf\", TfidfVectorizer()), (\"clf\", model)])\n",
    "    clf.fit(X_train, y_train)\n",
    "    \n",
    "    y_pred=clf.predict(X_test)\n",
    "    \n",
    "    plot_confusion_matrix(clf, X_test, y_test, cmap=plt.cm.Blues)  \n",
    "    plt.show()\n",
    "    \n",
    "    print(classification_report(y_test, y_pred))\n",
    "    print(\"Accuracy: \", clf.score(X_test, y_test)*100)\n",
    "    \n",
    "    \n"
   ]
  },
  {
   "cell_type": "code",
   "execution_count": 13,
   "metadata": {},
   "outputs": [],
   "source": [
    "### Logistic Regression"
   ]
  },
  {
   "cell_type": "code",
   "execution_count": 14,
   "metadata": {},
   "outputs": [
    {
     "data": {
      "image/png": "[encoded data removed]",
      "text/plain": [
       "<Figure size 432x288 with 2 Axes>"
      ]
     },
     "metadata": {
      "needs_background": "light"
     },
     "output_type": "display_data"
    },
    {
     "name": "stdout",
     "output_type": "stream",
     "text": [
      "              precision    recall  f1-score   support\n",
      "\n",
      "         ham       0.95      0.97      0.96       177\n",
      "        spam       0.97      0.95      0.96       177\n",
      "\n",
      "    accuracy                           0.96       354\n",
      "   macro avg       0.96      0.96      0.96       354\n",
      "weighted avg       0.96      0.96      0.96       354\n",
      "\n",
      "Accuracy:  95.76271186440678\n"
     ]
    }
   ],
   "source": [
    "model=LogisticRegression()\n",
    "classify(model, X, y)"
   ]
  },
  {
   "cell_type": "code",
   "execution_count": 15,
   "metadata": {},
   "outputs": [
    {
     "data": {
      "text/plain": [
       "array(['spam'], dtype=object)"
      ]
     },
     "execution_count": 15,
     "metadata": {},
     "output_type": "execute_result"
    }
   ],
   "source": [
    "clf.predict([\"You have won a free ticket for USA. Text to 123456\"])"
   ]
  },
  {
   "cell_type": "code",
   "execution_count": 16,
   "metadata": {},
   "outputs": [],
   "source": [
    "### Naive Bayes"
   ]
  },
  {
   "cell_type": "code",
   "execution_count": 17,
   "metadata": {},
   "outputs": [
    {
     "data": {
      "image/png": "[encoded data removed]",
      "text/plain": [
       "<Figure size 432x288 with 2 Axes>"
      ]
     },
     "metadata": {
      "needs_background": "light"
     },
     "output_type": "display_data"
    },
    {
     "name": "stdout",
     "output_type": "stream",
     "text": [
      "              precision    recall  f1-score   support\n",
      "\n",
      "         ham       0.96      0.97      0.96       177\n",
      "        spam       0.97      0.96      0.96       177\n",
      "\n",
      "    accuracy                           0.96       354\n",
      "   macro avg       0.96      0.96      0.96       354\n",
      "weighted avg       0.96      0.96      0.96       354\n",
      "\n",
      "Accuracy:  96.32768361581921\n"
     ]
    }
   ],
   "source": [
    "model=MultinomialNB()\n",
    "classify(model, X, y)"
   ]
  },
  {
   "cell_type": "code",
   "execution_count": 18,
   "metadata": {},
   "outputs": [
    {
     "data": {
      "text/plain": [
       "array(['spam'], dtype='<U4')"
      ]
     },
     "execution_count": 18,
     "metadata": {},
     "output_type": "execute_result"
    }
   ],
   "source": [
    "clf.predict([\"You have won a free ticket for USA. Text to 123456\"])"
   ]
  },
  {
   "cell_type": "code",
   "execution_count": 19,
   "metadata": {},
   "outputs": [],
   "source": [
    "### Decision Tree"
   ]
  },
  {
   "cell_type": "code",
   "execution_count": 20,
   "metadata": {},
   "outputs": [
    {
     "data": {
      "image/png": "[encoded data removed]",
      "text/plain": [
       "<Figure size 432x288 with 2 Axes>"
      ]
     },
     "metadata": {
      "needs_background": "light"
     },
     "output_type": "display_data"
    },
    {
     "name": "stdout",
     "output_type": "stream",
     "text": [
      "              precision    recall  f1-score   support\n",
      "\n",
      "         ham       0.91      0.92      0.91       177\n",
      "        spam       0.91      0.91      0.91       177\n",
      "\n",
      "    accuracy                           0.91       354\n",
      "   macro avg       0.91      0.91      0.91       354\n",
      "weighted avg       0.91      0.91      0.91       354\n",
      "\n",
      "Accuracy:  91.24293785310734\n"
     ]
    }
   ],
   "source": [
    "model=DecisionTreeClassifier()\n",
    "classify(model, X, y)"
   ]
  },
  {
   "cell_type": "code",
   "execution_count": 21,
   "metadata": {},
   "outputs": [
    {
     "data": {
      "text/plain": [
       "array(['spam'], dtype=object)"
      ]
     },
     "execution_count": 21,
     "metadata": {},
     "output_type": "execute_result"
    }
   ],
   "source": [
    "clf.predict([\"You have won a free ticket for USA. Text to 123456\"])"
   ]
  },
  {
   "cell_type": "code",
   "execution_count": 22,
   "metadata": {},
   "outputs": [],
   "source": [
    "### SVM"
   ]
  },
  {
   "cell_type": "code",
   "execution_count": 23,
   "metadata": {},
   "outputs": [
    {
     "data": {
      "image/png": "[encoded data removed]",
      "text/plain": [
       "<Figure size 432x288 with 2 Axes>"
      ]
     },
     "metadata": {
      "needs_background": "light"
     },
     "output_type": "display_data"
    },
    {
     "name": "stdout",
     "output_type": "stream",
     "text": [
      "              precision    recall  f1-score   support\n",
      "\n",
      "         ham       0.89      0.99      0.94       177\n",
      "        spam       0.99      0.88      0.93       177\n",
      "\n",
      "    accuracy                           0.94       354\n",
      "   macro avg       0.94      0.94      0.93       354\n",
      "weighted avg       0.94      0.94      0.93       354\n",
      "\n",
      "Accuracy:  93.50282485875707\n"
     ]
    }
   ],
   "source": [
    "model=SVC(C=100, gamma=\"auto\")\n",
    "classify(model, X, y)"
   ]
  },
  {
   "cell_type": "code",
   "execution_count": 24,
   "metadata": {},
   "outputs": [
    {
     "data": {
      "text/plain": [
       "array(['spam'], dtype=object)"
      ]
     },
     "execution_count": 24,
     "metadata": {},
     "output_type": "execute_result"
    }
   ],
   "source": [
    "clf.predict([\"You have won a free ticket for USA. Text to 123456\"])"
   ]
  },
  {
   "cell_type": "code",
   "execution_count": 25,
   "metadata": {},
   "outputs": [],
   "source": [
    "### KNN"
   ]
  },
  {
   "cell_type": "code",
   "execution_count": 26,
   "metadata": {},
   "outputs": [
    {
     "data": {
      "image/png": "[encoded data removed]",
      "text/plain": [
       "<Figure size 432x288 with 2 Axes>"
      ]
     },
     "metadata": {
      "needs_background": "light"
     },
     "output_type": "display_data"
    },
    {
     "name": "stdout",
     "output_type": "stream",
     "text": [
      "              precision    recall  f1-score   support\n",
      "\n",
      "         ham       0.91      0.98      0.94       177\n",
      "        spam       0.98      0.90      0.94       177\n",
      "\n",
      "    accuracy                           0.94       354\n",
      "   macro avg       0.94      0.94      0.94       354\n",
      "weighted avg       0.94      0.94      0.94       354\n",
      "\n",
      "Accuracy:  94.0677966101695\n"
     ]
    }
   ],
   "source": [
    "model=KNeighborsClassifier(n_neighbors=5)\n",
    "classify(model, X, y)"
   ]
  },
  {
   "cell_type": "code",
   "execution_count": 27,
   "metadata": {},
   "outputs": [
    {
     "data": {
      "text/plain": [
       "array(['spam'], dtype=object)"
      ]
     },
     "execution_count": 27,
     "metadata": {},
     "output_type": "execute_result"
    }
   ],
   "source": [
    "clf.predict([\"You have won a free ticket for USA. Text to 123456\"])"
   ]
  },
  {
   "cell_type": "code",
   "execution_count": 28,
   "metadata": {},
   "outputs": [
    {
     "data": {
      "image/png": "[encoded data removed]",
      "text/plain": [
       "<Figure size 432x288 with 2 Axes>"
      ]
     },
     "metadata": {
      "needs_background": "light"
     },
     "output_type": "display_data"
    },
    {
     "name": "stdout",
     "output_type": "stream",
     "text": [
      "              precision    recall  f1-score   support\n",
      "\n",
      "         ham       0.91      1.00      0.95       177\n",
      "        spam       1.00      0.90      0.95       177\n",
      "\n",
      "    accuracy                           0.95       354\n",
      "   macro avg       0.95      0.95      0.95       354\n",
      "weighted avg       0.95      0.95      0.95       354\n",
      "\n",
      "Accuracy:  94.91525423728814\n"
     ]
    }
   ],
   "source": [
    "model=RandomForestClassifier(n_estimators=100, n_jobs=-1)\n",
    "classify(model, X, y)"
   ]
  },
  {
   "cell_type": "code",
   "execution_count": 29,
   "metadata": {},
   "outputs": [
    {
     "data": {
      "text/plain": [
       "array(['spam'], dtype=object)"
      ]
     },
     "execution_count": 29,
     "metadata": {},
     "output_type": "execute_result"
    }
   ],
   "source": [
    "clf.predict([\"You have won a free ticket for USA. Text to 123456\"])"
   ]
  },
  {
   "cell_type": "code",
   "execution_count": null,
   "metadata": {},
   "outputs": [],
   "source": [
    "### XGBoost"
   ]
  },
  {
   "cell_type": "code",
   "execution_count": 30,
   "metadata": {},
   "outputs": [
    {
     "name": "stdout",
     "output_type": "stream",
     "text": [
      "Fitting 3 folds for each of 32 candidates, totalling 96 fits\n"
     ]
    },
    {
     "data": {
      "text/plain": [
       "Pipeline(steps=[('tfidf', TfidfVectorizer()),\n",
       "                ('clf',\n",
       "                 GridSearchCV(cv=3,\n",
       "                              estimator=XGBClassifier(base_score=None,\n",
       "                                                      booster=None,\n",
       "                                                      colsample_bylevel=None,\n",
       "                                                      colsample_bynode=None,\n",
       "                                                      colsample_bytree=None,\n",
       "                                                      enable_categorical=False,\n",
       "                                                      gamma=None, gpu_id=None,\n",
       "                                                      importance_type=None,\n",
       "                                                      interaction_constraints=None,\n",
       "                                                      learning_rate=None,\n",
       "                                                      max_delta_step=None,\n",
       "                                                      max_depth=None,\n",
       "                                                      min_child...\n",
       "                                                      scale_pos_weight=None,\n",
       "                                                      subsample=None,\n",
       "                                                      tree_method=None,\n",
       "                                                      validate_parameters=None,\n",
       "                                                      verbosity=None),\n",
       "                              n_jobs=-1,\n",
       "                              param_grid={'colsample_bytree': [0.5, 0.6],\n",
       "                                          'eval_metric': ['auc'],\n",
       "                                          'gamma': [0.4, 0.5],\n",
       "                                          'learning_rate': [0.1],\n",
       "                                          'max_depth': [3, 4],\n",
       "                                          'n_estimators': [600, 700],\n",
       "                                          'objective': ['binary:logistic'],\n",
       "                                          'subsample': [0.5, 0.6]},\n",
       "                              return_train_score=True, scoring='accuracy',\n",
       "                              verbose=1))])"
      ]
     },
     "execution_count": 30,
     "metadata": {},
     "output_type": "execute_result"
    }
   ],
   "source": [
    "parameters = {\n",
    "        'objective': ['binary:logistic'],\n",
    "        'eval_metric': ['auc'],\n",
    "        'n_estimators': [600,700],\n",
    "        'gamma': [0.4,0.5],\n",
    "        'subsample': [0.5,0.6],\n",
    "        'colsample_bytree': [0.5,0.6],\n",
    "        'max_depth': [3, 4],\n",
    "        'learning_rate': [0.1]\n",
    "}\n",
    "\n",
    "model = GridSearchCV(estimator=XGBClassifier(), scoring='accuracy', param_grid=parameters, return_train_score=True, n_jobs=-1,verbose=1, cv=3)\n",
    "\n",
    "clf=Pipeline([(\"tfidf\", TfidfVectorizer()), (\"clf\", model)])\n",
    "clf.fit(X_train, y_train)"
   ]
  },
  {
   "cell_type": "code",
   "execution_count": 31,
   "metadata": {},
   "outputs": [
    {
     "data": {
      "text/plain": [
       "{'colsample_bytree': 0.5,\n",
       " 'eval_metric': 'auc',\n",
       " 'gamma': 0.5,\n",
       " 'learning_rate': 0.1,\n",
       " 'max_depth': 4,\n",
       " 'n_estimators': 600,\n",
       " 'objective': 'binary:logistic',\n",
       " 'subsample': 0.5}"
      ]
     },
     "execution_count": 31,
     "metadata": {},
     "output_type": "execute_result"
    }
   ],
   "source": [
    "best = model.best_params_\n",
    "best"
   ]
  },
  {
   "cell_type": "code",
   "execution_count": 32,
   "metadata": {},
   "outputs": [
    {
     "name": "stdout",
     "output_type": "stream",
     "text": [
      "Fitting 3 folds for each of 32 candidates, totalling 96 fits\n"
     ]
    },
    {
     "data": {
      "image/png": "[encoded data removed]",
      "text/plain": [
       "<Figure size 432x288 with 2 Axes>"
      ]
     },
     "metadata": {
      "needs_background": "light"
     },
     "output_type": "display_data"
    },
    {
     "name": "stdout",
     "output_type": "stream",
     "text": [
      "              precision    recall  f1-score   support\n",
      "\n",
      "         ham       0.90      0.97      0.93       177\n",
      "        spam       0.97      0.89      0.93       177\n",
      "\n",
      "    accuracy                           0.93       354\n",
      "   macro avg       0.93      0.93      0.93       354\n",
      "weighted avg       0.93      0.93      0.93       354\n",
      "\n",
      "Accuracy:  92.93785310734464\n"
     ]
    }
   ],
   "source": [
    "model = GridSearchCV(estimator=XGBClassifier(**best), scoring='accuracy', param_grid=parameters, return_train_score=True, n_jobs=-1,verbose=1, cv=3)\n",
    "\n",
    "clf=Pipeline([(\"tfidf\", TfidfVectorizer()), (\"clf\", model)])\n",
    "clf.fit(X_train, y_train)\n",
    "\n",
    "y_pred=clf.predict(X_test)\n",
    "    \n",
    "plot_confusion_matrix(clf, X_test, y_test, cmap=plt.cm.Blues)  \n",
    "plt.show()\n",
    "    \n",
    "print(classification_report(y_test, y_pred))\n",
    "print(\"Accuracy: \", clf.score(X_test, y_test)*100)"
   ]
  }
 ],
 "metadata": {
  "interpreter": {
   "hash": "4a7c13ad6cbaa2c09699b84d7ab83795065f82a4bdbe102a47cfbde87b903bc2"
  },
  "kernelspec": {
   "display_name": "Python 3.8.12 64-bit ('sms_spam': conda)",
   "language": "python",
   "name": "python3"
  },
  "language_info": {
   "codemirror_mode": {
    "name": "ipython",
    "version": 3
   },
   "file_extension": ".py",
   "mimetype": "text/x-python",
   "name": "python",
   "nbconvert_exporter": "python",
   "pygments_lexer": "ipython3",
   "version": "3.8.12"
  },
  "orig_nbformat": 4
 },
 "nbformat": 4,
 "nbformat_minor": 2
}
